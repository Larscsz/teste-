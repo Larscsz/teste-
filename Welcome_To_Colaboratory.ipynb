{
  "cells": [
    {
      "cell_type": "markdown",
      "metadata": {
        "id": "view-in-github",
        "colab_type": "text"
      },
      "source": [
        "<a href=\"https://colab.research.google.com/github/Larscsz/teste-/blob/main/Welcome_To_Colaboratory.ipynb\" target=\"_parent\"><img src=\"https://colab.research.google.com/assets/colab-badge.svg\" alt=\"Open In Colab\"/></a>"
      ]
    },
    {
      "cell_type": "code",
      "source": [
        "print ('ola')"
      ],
      "metadata": {
        "colab": {
          "base_uri": "https://localhost:8080/"
        },
        "id": "hw4xXFlkg_Ah",
        "outputId": "41a38337-d6c4-4afc-c08f-e0156e531470"
      },
      "execution_count": 1,
      "outputs": [
        {
          "output_type": "stream",
          "name": "stdout",
          "text": [
            "ola\n"
          ]
        }
      ]
    },
    {
      "cell_type": "markdown",
      "source": [
        "Soma"
      ],
      "metadata": {
        "id": "AI2CP_JXhIbS"
      }
    },
    {
      "cell_type": "code",
      "source": [
        "print (9+3)"
      ],
      "metadata": {
        "colab": {
          "base_uri": "https://localhost:8080/"
        },
        "id": "BcN0YDJShJKT",
        "outputId": "7b94f7f5-8247-427b-b3c4-3fd66d64b17b"
      },
      "execution_count": 3,
      "outputs": [
        {
          "output_type": "stream",
          "name": "stdout",
          "text": [
            "12\n"
          ]
        }
      ]
    },
    {
      "cell_type": "markdown",
      "source": [
        "Concatenação"
      ],
      "metadata": {
        "id": "iUJqUcP9iKd2"
      }
    },
    {
      "cell_type": "code",
      "source": [
        "print ('9'+'10')"
      ],
      "metadata": {
        "colab": {
          "base_uri": "https://localhost:8080/"
        },
        "id": "8VfLPs8HiNkJ",
        "outputId": "283f55fd-e1c7-4d96-c522-ec979d15e74d"
      },
      "execution_count": 4,
      "outputs": [
        {
          "output_type": "stream",
          "name": "stdout",
          "text": [
            "910\n"
          ]
        }
      ]
    },
    {
      "cell_type": "markdown",
      "source": [
        "Concatenação com mensagem"
      ],
      "metadata": {
        "id": "qJ7GpaHEiSiZ"
      }
    },
    {
      "cell_type": "code",
      "source": [
        "print (' a soma entre os valor 15 +12 é:',15+12)"
      ],
      "metadata": {
        "colab": {
          "base_uri": "https://localhost:8080/"
        },
        "id": "J3xpFee9ifyh",
        "outputId": "92976e24-d97f-496c-ec68-42409464e307"
      },
      "execution_count": 6,
      "outputs": [
        {
          "output_type": "stream",
          "name": "stdout",
          "text": [
            " a soma entre os valor 15 +12 é: 27\n"
          ]
        }
      ]
    },
    {
      "cell_type": "markdown",
      "source": [
        "concatenação 2"
      ],
      "metadata": {
        "id": "CMnUYnmas9IL"
      }
    },
    {
      "cell_type": "code",
      "source": [
        "s1= 'logica de programação'\n",
        "s1= s1+ ' e algoritimo caralho'\n",
        "print (s1)"
      ],
      "metadata": {
        "colab": {
          "base_uri": "https://localhost:8080/"
        },
        "id": "hcU2e8nstAAC",
        "outputId": "98deb6d8-ffb4-40ff-bc57-723c4254330b"
      },
      "execution_count": 22,
      "outputs": [
        {
          "output_type": "stream",
          "name": "stdout",
          "text": [
            "logica de programação e algoritimo caralho\n"
          ]
        }
      ]
    },
    {
      "cell_type": "code",
      "source": [
        "sa='A'+'-'*30+'B'\n",
        "print (sa)"
      ],
      "metadata": {
        "colab": {
          "base_uri": "https://localhost:8080/"
        },
        "id": "yvt9s7vmtaSq",
        "outputId": "145570cc-352f-4c20-87f5-405842fc05f0"
      },
      "execution_count": 24,
      "outputs": [
        {
          "output_type": "stream",
          "name": "stdout",
          "text": [
            "A------------------------------B\n"
          ]
        }
      ]
    },
    {
      "cell_type": "markdown",
      "source": [
        "Composição"
      ],
      "metadata": {
        "id": "nWpZXkyluEKc"
      }
    },
    {
      "cell_type": "code",
      "source": [
        "nota=9.9\n",
        "s1= 'voce tirou a nota de %.2f na disciplina de ser romatica demais'%nota\n",
        "print (s1)"
      ],
      "metadata": {
        "colab": {
          "base_uri": "https://localhost:8080/"
        },
        "id": "v3krn6MRuHNs",
        "outputId": "47c7d4e8-bfaa-42c8-9bcc-b8caa6008e34"
      },
      "execution_count": 27,
      "outputs": [
        {
          "output_type": "stream",
          "name": "stdout",
          "text": [
            "voce tirou a nota de 9.90 na disciplina de ser romatica demais\n"
          ]
        }
      ]
    },
    {
      "cell_type": "markdown",
      "source": [
        "Variáveis"
      ],
      "metadata": {
        "id": "swMC-GGKjqyM"
      }
    },
    {
      "cell_type": "code",
      "source": [
        "nota =100\n",
        "disciplina= 'romantica demais'\n",
        "print ('voce tirou a nota', nota,'na disciplina de ser',disciplina)"
      ],
      "metadata": {
        "colab": {
          "base_uri": "https://localhost:8080/"
        },
        "id": "cSRpdysQk0-4",
        "outputId": "48e7bc8e-e8e0-40fc-c941-dea9a972a4ee"
      },
      "execution_count": 13,
      "outputs": [
        {
          "output_type": "stream",
          "name": "stdout",
          "text": [
            "voce tirou a nota 100 na disciplina de ser romantica demais\n"
          ]
        }
      ]
    },
    {
      "cell_type": "markdown",
      "source": [
        "Variaveis lógicas"
      ],
      "metadata": {
        "id": "Q0LN-pbCn-Ay"
      }
    },
    {
      "cell_type": "code",
      "source": [
        "a=1\n",
        "b=5\n",
        "res= a==b\n",
        "print (res)"
      ],
      "metadata": {
        "colab": {
          "base_uri": "https://localhost:8080/"
        },
        "id": "wgO564VIoBQL",
        "outputId": "3edeffbf-54a6-4aea-8eef-a548ffff1ace"
      },
      "execution_count": 14,
      "outputs": [
        {
          "output_type": "stream",
          "name": "stdout",
          "text": [
            "False\n"
          ]
        }
      ]
    },
    {
      "cell_type": "markdown",
      "source": [
        "Acessando o indice"
      ],
      "metadata": {
        "id": "wy_bgFehpY7z"
      }
    },
    {
      "cell_type": "code",
      "source": [
        "frase= ('olá,caralho')\n",
        "print(frase[2])\n",
        "print(frase[9])"
      ],
      "metadata": {
        "colab": {
          "base_uri": "https://localhost:8080/"
        },
        "id": "D0pt8AjepbLs",
        "outputId": "6c71d274-9ebd-424f-baf2-29f8a6a73e26"
      },
      "execution_count": 20,
      "outputs": [
        {
          "output_type": "stream",
          "name": "stdout",
          "text": [
            "á\n",
            "h\n"
          ]
        }
      ]
    }
  ],
  "metadata": {
    "colab": {
      "name": "Welcome To Colaboratory",
      "provenance": [],
      "include_colab_link": true
    },
    "kernelspec": {
      "display_name": "Python 3",
      "name": "python3"
    }
  },
  "nbformat": 4,
  "nbformat_minor": 0
}